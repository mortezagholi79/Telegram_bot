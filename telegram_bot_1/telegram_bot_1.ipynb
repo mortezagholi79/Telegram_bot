{
 "cells": [
  {
   "cell_type": "markdown",
   "metadata": {},
   "source": [
    "# The robot displays the latest price of currency pairs"
   ]
  },
  {
   "cell_type": "raw",
   "metadata": {},
   "source": [
    "After sending the \"/Start\" , this robot gives us a list of currency pairs related to the Euro currency.\n",
    "Then we select a currency pair from that list.\n",
    "The bot returns the \"last traded price\" of that currency pair."
   ]
  },
  {
   "cell_type": "code",
   "execution_count": null,
   "metadata": {},
   "outputs": [],
   "source": [
    "from telegram import *\n",
    "from telegram.ext import *\n",
    "from requests import *\n",
    "import yfinance as yf"
   ]
  },
  {
   "cell_type": "code",
   "execution_count": null,
   "metadata": {},
   "outputs": [],
   "source": [
    "updater = Updater(token = \"     \")\n",
    "dispatcher = updater.dispatcher\n",
    "\n",
    "\n",
    "EURUSD = \"EURUSD\"\n",
    "EURJPY = \"EURJPY\"\n",
    "EURCHF = \"EURCHF\"\n",
    "EURGBP = \"EURGBP\"\n",
    "EURAUD = \"EURAUD\"\n",
    "\n",
    "\n",
    "def startCommand(update: Update , context = CallbackContext):\n",
    "    buttons = [[KeyboardButton(EURUSD)],\n",
    "               [KeyboardButton(EURJPY)],\n",
    "               [KeyboardButton(EURCHF)],\n",
    "               [KeyboardButton(EURGBP)],\n",
    "               [KeyboardButton(EURAUD)]]\n",
    "    \n",
    "    context.bot.send_message(chat_id = update.effective_chat.id , text= \"Hello. I will help you see the Close price of currency pairs.Please enter the name of the currency pair...\" \n",
    "                             , reply_markup=ReplyKeyboardMarkup(buttons))\n",
    "    \n",
    "def messageHandler(update : Update , context = CallbackContext):\n",
    "    if EURUSD in update.message.text :\n",
    "         forex_data_minute = yf.download('EURUSD=X', period='1d', interval='1d').Close[0]\n",
    "    if EURJPY in update.message.text :\n",
    "         forex_data_minute = yf.download('EURJPY=X', period='1d', interval='1d').Close[0] \n",
    "    if EURCHF in update.message.text :\n",
    "         forex_data_minute = yf.download('EURCHF=X', period='1d', interval='1d').Close[0]     \n",
    "    if EURGBP in update.message.text :\n",
    "         forex_data_minute = yf.download('EURGBP=X', period='1d', interval='1d').Close[0]\n",
    "    if EURAUD in update.message.text :\n",
    "         forex_data_minute = yf.download('EURAUD=X', period='1d', interval='1d').Close[0]\n",
    "            \n",
    "            \n",
    "            \n",
    "    if forex_data_minute:\n",
    "        context.bot.send_message(chat_id = update.effective_chat.id , text= 'The last price is:')\n",
    "        context.bot.send_message(chat_id = update.effective_chat.id , text= round(forex_data_minute ,5))\n",
    "        \n",
    "        \n",
    "dispatcher.add_handler(CommandHandler(\"Start\" , startCommand))\n",
    "dispatcher.add_handler(MessageHandler(Filters.text , messageHandler))\n",
    "\n",
    "updater.start_polling()"
   ]
  },
  {
   "cell_type": "code",
   "execution_count": null,
   "metadata": {},
   "outputs": [],
   "source": []
  }
 ],
 "metadata": {
  "kernelspec": {
   "display_name": "Python 3 (ipykernel)",
   "language": "python",
   "name": "python3"
  },
  "language_info": {
   "codemirror_mode": {
    "name": "ipython",
    "version": 3
   },
   "file_extension": ".py",
   "mimetype": "text/x-python",
   "name": "python",
   "nbconvert_exporter": "python",
   "pygments_lexer": "ipython3",
   "version": "3.9.12"
  }
 },
 "nbformat": 4,
 "nbformat_minor": 2
}
